{
 "cells": [
  {
   "cell_type": "markdown",
   "metadata": {},
   "source": [
    "#### Python для анализа данных (социальные науки)\n",
    "\n",
    "## Контрольная работа по Pandas\n",
    "\n",
    "Контрольная работа проводится после блока по Pandas\n",
    "\n",
    "*Автор: Татьяна Рогович, НИУ ВШЭ*"
   ]
  },
  {
   "cell_type": "markdown",
   "metadata": {},
   "source": [
    "**Списывание и использование телефонов** \n",
    "\n",
    "Первое предупреждение, сделанное ассистентом или преподавателем: - 1 балл к вашей оценке.\n",
    "\n",
    "Второе предупреждение: работа аннулируется без права переписывания.\n",
    "\n",
    "Задания с подозрением на списанные аннулируются всем студентам. Если кто-то признается, что именно он списал работу, то аннулированная оценка остается только у списавшего.\n",
    "\n",
    "Если больше четырех заданий совпадают у двух студентов, аннулириуется вся работа.\n",
    "\n",
    "**Оформление, стиль, эффективность (штраф до 1 балла)**\n",
    "\n",
    "За каждый тип повторяющейся стилистической ошибки снимается 0.25 балла. Повторяющейся считаем ошибку, допущенную минимум 2 раза.\n",
    "\n",
    "0.25 балла снимается за каждые 4 не систематические ошибки (4 разных ошибки, допущенных по одному разу.)\n",
    "\n",
    "Так же из этого балла могут сниматься штрафы 0.25 за использование ненужных функций (мы не оцениваем здесь эффективность решения, но смотрим на такие вещи, как, например, перевод строкового вода в строку - лишняя ненужная операция). Мы делаем вывод, что вы не до конца понимаете, как работает код.\n",
    "\n",
    "Все задачи должны принимать значения на ввод (решение для частного случая там, где в условии говорится, что подается на ввод, будет считаться неполным). Неполные решения могут быть зачтены с оценкой равной доле от полного возможного балла за этот пункт."
   ]
  },
  {
   "cell_type": "code",
   "execution_count": 3,
   "metadata": {
    "colab": {},
    "colab_type": "code",
    "id": "_HNDttaRjxXY"
   },
   "outputs": [],
   "source": [
    "import pandas as pd\n",
    "import seaborn as sns\n",
    "from scipy.stats import norm\n",
    "\n",
    "%matplotlib inline"
   ]
  },
  {
   "cell_type": "markdown",
   "metadata": {
    "colab_type": "text",
    "id": "FuJKWXhejxXb"
   },
   "source": [
    "Будем работать с датасетом Pima Indian Diabetes - это набор данных из Национального института диабета, болезней органов пищеварения и почек. Целью набора данных является диагностическое прогнозирование наличия диабета у пациента. Несколько ограничений были наложены на выбор этих экземпляров из большой базы данных. В частности, все пациенты здесь - женщины в возрасте от 21 года, индийского происхождения."
   ]
  },
  {
   "cell_type": "code",
   "execution_count": 4,
   "metadata": {
    "colab": {},
    "colab_type": "code",
    "id": "sTpCO57YjxXb",
    "outputId": "14b3949d-0b6c-45a2-b3c2-f3616c700cb8"
   },
   "outputs": [
    {
     "data": {
      "text/html": [
       "<div>\n",
       "<style scoped>\n",
       "    .dataframe tbody tr th:only-of-type {\n",
       "        vertical-align: middle;\n",
       "    }\n",
       "\n",
       "    .dataframe tbody tr th {\n",
       "        vertical-align: top;\n",
       "    }\n",
       "\n",
       "    .dataframe thead th {\n",
       "        text-align: right;\n",
       "    }\n",
       "</style>\n",
       "<table border=\"1\" class=\"dataframe\">\n",
       "  <thead>\n",
       "    <tr style=\"text-align: right;\">\n",
       "      <th></th>\n",
       "      <th>Pregnancies</th>\n",
       "      <th>Glucose</th>\n",
       "      <th>BloodPressure</th>\n",
       "      <th>SkinThickness</th>\n",
       "      <th>Insulin</th>\n",
       "      <th>BMI</th>\n",
       "      <th>DiabetesPedigreeFunction</th>\n",
       "      <th>Age</th>\n",
       "      <th>Class</th>\n",
       "    </tr>\n",
       "  </thead>\n",
       "  <tbody>\n",
       "    <tr>\n",
       "      <th>0</th>\n",
       "      <td>6</td>\n",
       "      <td>148.0</td>\n",
       "      <td>72.0</td>\n",
       "      <td>35.0</td>\n",
       "      <td>NaN</td>\n",
       "      <td>33.6</td>\n",
       "      <td>0.627</td>\n",
       "      <td>50</td>\n",
       "      <td>1</td>\n",
       "    </tr>\n",
       "    <tr>\n",
       "      <th>1</th>\n",
       "      <td>1</td>\n",
       "      <td>85.0</td>\n",
       "      <td>66.0</td>\n",
       "      <td>29.0</td>\n",
       "      <td>NaN</td>\n",
       "      <td>26.6</td>\n",
       "      <td>0.351</td>\n",
       "      <td>31</td>\n",
       "      <td>0</td>\n",
       "    </tr>\n",
       "    <tr>\n",
       "      <th>2</th>\n",
       "      <td>8</td>\n",
       "      <td>183.0</td>\n",
       "      <td>64.0</td>\n",
       "      <td>NaN</td>\n",
       "      <td>NaN</td>\n",
       "      <td>23.3</td>\n",
       "      <td>0.672</td>\n",
       "      <td>32</td>\n",
       "      <td>1</td>\n",
       "    </tr>\n",
       "    <tr>\n",
       "      <th>3</th>\n",
       "      <td>1</td>\n",
       "      <td>89.0</td>\n",
       "      <td>66.0</td>\n",
       "      <td>23.0</td>\n",
       "      <td>94.0</td>\n",
       "      <td>28.1</td>\n",
       "      <td>0.167</td>\n",
       "      <td>21</td>\n",
       "      <td>0</td>\n",
       "    </tr>\n",
       "    <tr>\n",
       "      <th>4</th>\n",
       "      <td>0</td>\n",
       "      <td>137.0</td>\n",
       "      <td>40.0</td>\n",
       "      <td>35.0</td>\n",
       "      <td>168.0</td>\n",
       "      <td>43.1</td>\n",
       "      <td>2.288</td>\n",
       "      <td>33</td>\n",
       "      <td>1</td>\n",
       "    </tr>\n",
       "    <tr>\n",
       "      <th>5</th>\n",
       "      <td>5</td>\n",
       "      <td>116.0</td>\n",
       "      <td>74.0</td>\n",
       "      <td>NaN</td>\n",
       "      <td>NaN</td>\n",
       "      <td>25.6</td>\n",
       "      <td>0.201</td>\n",
       "      <td>30</td>\n",
       "      <td>0</td>\n",
       "    </tr>\n",
       "    <tr>\n",
       "      <th>6</th>\n",
       "      <td>3</td>\n",
       "      <td>78.0</td>\n",
       "      <td>50.0</td>\n",
       "      <td>32.0</td>\n",
       "      <td>88.0</td>\n",
       "      <td>31.0</td>\n",
       "      <td>0.248</td>\n",
       "      <td>26</td>\n",
       "      <td>1</td>\n",
       "    </tr>\n",
       "    <tr>\n",
       "      <th>7</th>\n",
       "      <td>10</td>\n",
       "      <td>115.0</td>\n",
       "      <td>NaN</td>\n",
       "      <td>NaN</td>\n",
       "      <td>NaN</td>\n",
       "      <td>35.3</td>\n",
       "      <td>0.134</td>\n",
       "      <td>29</td>\n",
       "      <td>0</td>\n",
       "    </tr>\n",
       "    <tr>\n",
       "      <th>8</th>\n",
       "      <td>2</td>\n",
       "      <td>197.0</td>\n",
       "      <td>70.0</td>\n",
       "      <td>45.0</td>\n",
       "      <td>543.0</td>\n",
       "      <td>30.5</td>\n",
       "      <td>0.158</td>\n",
       "      <td>53</td>\n",
       "      <td>1</td>\n",
       "    </tr>\n",
       "    <tr>\n",
       "      <th>9</th>\n",
       "      <td>8</td>\n",
       "      <td>125.0</td>\n",
       "      <td>96.0</td>\n",
       "      <td>NaN</td>\n",
       "      <td>NaN</td>\n",
       "      <td>NaN</td>\n",
       "      <td>0.232</td>\n",
       "      <td>54</td>\n",
       "      <td>1</td>\n",
       "    </tr>\n",
       "  </tbody>\n",
       "</table>\n",
       "</div>"
      ],
      "text/plain": [
       "   Pregnancies  Glucose  BloodPressure  SkinThickness  Insulin   BMI  \\\n",
       "0            6    148.0           72.0           35.0      NaN  33.6   \n",
       "1            1     85.0           66.0           29.0      NaN  26.6   \n",
       "2            8    183.0           64.0            NaN      NaN  23.3   \n",
       "3            1     89.0           66.0           23.0     94.0  28.1   \n",
       "4            0    137.0           40.0           35.0    168.0  43.1   \n",
       "5            5    116.0           74.0            NaN      NaN  25.6   \n",
       "6            3     78.0           50.0           32.0     88.0  31.0   \n",
       "7           10    115.0            NaN            NaN      NaN  35.3   \n",
       "8            2    197.0           70.0           45.0    543.0  30.5   \n",
       "9            8    125.0           96.0            NaN      NaN   NaN   \n",
       "\n",
       "   DiabetesPedigreeFunction  Age  Class  \n",
       "0                     0.627   50      1  \n",
       "1                     0.351   31      0  \n",
       "2                     0.672   32      1  \n",
       "3                     0.167   21      0  \n",
       "4                     2.288   33      1  \n",
       "5                     0.201   30      0  \n",
       "6                     0.248   26      1  \n",
       "7                     0.134   29      0  \n",
       "8                     0.158   53      1  \n",
       "9                     0.232   54      1  "
      ]
     },
     "execution_count": 4,
     "metadata": {},
     "output_type": "execute_result"
    }
   ],
   "source": [
    "data = pd.read_csv('pima-indians-diabetes.csv')\n",
    "data.head(10)"
   ]
  },
  {
   "cell_type": "markdown",
   "metadata": {
    "colab_type": "text",
    "id": "2XR6YIKGjxXf"
   },
   "source": [
    "Описание данных:\n",
    "\n",
    "- __Pregnancies__ - данная единица отображает количество беременностей, единицы измерения - целые числа от 0 до N. Тип переменной - количественная, дискретная.\n",
    "- __Glucose__ - данная единица отображает уровень глюкозы в крови, единицы измерения - целые числа. Тип переменной - количественная, дискретная.\n",
    "- __BloodPressure__ - данная единица отображает артериальное давление, единицы измерения - миллиметры р/с, целые числа. Тип переменной - количественная, дискретная.\n",
    "- __SkinThickness__ - данная единица отображает обхват трицепса в миллиметрах, целые числа. Тип переменной - количественная, дискретная.\n",
    "- __Insulin__ - данная единица отображает уровень инсулина в крови, целые числа. Тип переменной - количественная, дискретная.\n",
    "- __BMI__ - данная единица отображает индекс массы тела. Тип переменной - количественная, непрерывная.\n",
    "- __DiabetesPedigreeFunction__ - данная единица отображает риск наследственного диабета в зависимости наличия диабета у родственников. Выражается десятичной дробью от 0 до 1. Тип переменной - количественная, непрерывная.\n",
    "- __Age__ - данная единица отражает возраст в целых числах. Тип переменной - количественная, дискретная.\n",
    "- __Class__ - данная единица отражает наличие диабета у субъекта, выражена 0(здоров) или 1(болен). Тип переменной - категориальная, бинарная."
   ]
  },
  {
   "cell_type": "markdown",
   "metadata": {
    "colab_type": "text",
    "id": "x0CsPO-4jxXg"
   },
   "source": [
    "__Задание 1. (0.5 балла)__\n",
    "\n",
    "Как вы видите, в данных много пропусков (NaN). Любым способом посчитайте количество пропусков в каждом из столбцов (но мы должны видеть как вы это делали). \n",
    "\n",
    "Для тех переменных, в которых есть пропуске, выведите количество пропущенных значений в следующем формате:\n",
    "\n",
    "\"В переменной {название переменной} {количество} пропущенных значений\""
   ]
  },
  {
   "cell_type": "code",
   "execution_count": 99,
   "metadata": {},
   "outputs": [
    {
     "name": "stdout",
     "output_type": "stream",
     "text": [
      "В переменной Pregnancies False    768\n",
      "Name: Pregnancies, dtype: int64  пропущенных значений\n",
      "В переменной Glucose 768  пропущенных значений\n",
      "В переменной BloodPressure 768  пропущенных значений\n",
      "В переменной SkinThickness 768  пропущенных значений\n",
      "В переменной Insulin 768  пропущенных значений\n",
      "В переменной BMI 768  пропущенных значений\n",
      "В переменной DiabesPedigreeFunction 768  пропущенных значений\n",
      "В переменной Age 768  пропущенных значений\n",
      "В переменной Class 768  пропущенных значений\n"
     ]
    }
   ],
   "source": [
    "# решение\n",
    "n_pregnancies = data['Pregnancies'].isnull().shape[0]\n",
    "print('В переменной', 'Pregnancies', n_pregnancies, ' пропущенных значений')\n",
    "\n",
    "n_glucose = data['Glucose'].isnull().shape[0]\n",
    "print('В переменной', 'Glucose', n_glucose, ' пропущенных значений')\n",
    "\n",
    "n_bloodpressure = data['BloodPressure'].isnull().shape[0]\n",
    "print('В переменной', 'BloodPressure', n_bloodpressure, ' пропущенных значений')\n",
    "n_skinthickness = data['SkinThickness'].isnull().shape[0]\n",
    "print('В переменной', 'SkinThickness', n_skinthickness, ' пропущенных значений')\n",
    "n_insulin = data['Insulin'].isnull().shape[0]\n",
    "print('В переменной', 'Insulin', n_insulin, ' пропущенных значений')\n",
    "n_bmi = data['BMI'].isnull().shape[0]\n",
    "print('В переменной', 'BMI', n_bmi, ' пропущенных значений')\n",
    "n_diabetespedigree = data['DiabetesPedigreeFunction'].isnull().shape[0]\n",
    "print('В переменной', 'DiabesPedigreeFunction', n_diabetespedigree, ' пропущенных значений')\n",
    "n_age = data['Age'].isnull().shape[0]\n",
    "print('В переменной', 'Age', n_age, ' пропущенных значений')\n",
    "n_class = data['Class'].isnull().shape[0]\n",
    "print('В переменной', 'Class', n_class, ' пропущенных значений')"
   ]
  },
  {
   "cell_type": "markdown",
   "metadata": {
    "colab_type": "text",
    "id": "Q-S71t5rjxXj"
   },
   "source": [
    "__Задание 2. (1 балл)__\n",
    "\n",
    "Замените все пропуски дискретных признаков соответствующими медианами, непрерывных признаков - средними значениями."
   ]
  },
  {
   "cell_type": "code",
   "execution_count": 24,
   "metadata": {
    "colab": {},
    "colab_type": "code",
    "id": "X6sFZJ_FjxXj"
   },
   "outputs": [
    {
     "data": {
      "text/html": [
       "<div>\n",
       "<style scoped>\n",
       "    .dataframe tbody tr th:only-of-type {\n",
       "        vertical-align: middle;\n",
       "    }\n",
       "\n",
       "    .dataframe tbody tr th {\n",
       "        vertical-align: top;\n",
       "    }\n",
       "\n",
       "    .dataframe thead th {\n",
       "        text-align: right;\n",
       "    }\n",
       "</style>\n",
       "<table border=\"1\" class=\"dataframe\">\n",
       "  <thead>\n",
       "    <tr style=\"text-align: right;\">\n",
       "      <th></th>\n",
       "      <th>Pregnancies</th>\n",
       "      <th>Glucose</th>\n",
       "      <th>BloodPressure</th>\n",
       "      <th>SkinThickness</th>\n",
       "      <th>Insulin</th>\n",
       "      <th>BMI</th>\n",
       "      <th>DiabetesPedigreeFunction</th>\n",
       "      <th>Age</th>\n",
       "      <th>Class</th>\n",
       "      <th>Age_Median</th>\n",
       "    </tr>\n",
       "  </thead>\n",
       "  <tbody>\n",
       "    <tr>\n",
       "      <th>0</th>\n",
       "      <td>6</td>\n",
       "      <td>148.0</td>\n",
       "      <td>72.0</td>\n",
       "      <td>35.0</td>\n",
       "      <td>125.0</td>\n",
       "      <td>33.600000</td>\n",
       "      <td>0.627</td>\n",
       "      <td>50</td>\n",
       "      <td>1</td>\n",
       "      <td>50</td>\n",
       "    </tr>\n",
       "    <tr>\n",
       "      <th>1</th>\n",
       "      <td>1</td>\n",
       "      <td>85.0</td>\n",
       "      <td>66.0</td>\n",
       "      <td>29.0</td>\n",
       "      <td>125.0</td>\n",
       "      <td>26.600000</td>\n",
       "      <td>0.351</td>\n",
       "      <td>31</td>\n",
       "      <td>0</td>\n",
       "      <td>31</td>\n",
       "    </tr>\n",
       "    <tr>\n",
       "      <th>2</th>\n",
       "      <td>8</td>\n",
       "      <td>183.0</td>\n",
       "      <td>64.0</td>\n",
       "      <td>29.0</td>\n",
       "      <td>125.0</td>\n",
       "      <td>23.300000</td>\n",
       "      <td>0.672</td>\n",
       "      <td>32</td>\n",
       "      <td>1</td>\n",
       "      <td>32</td>\n",
       "    </tr>\n",
       "    <tr>\n",
       "      <th>3</th>\n",
       "      <td>1</td>\n",
       "      <td>89.0</td>\n",
       "      <td>66.0</td>\n",
       "      <td>23.0</td>\n",
       "      <td>94.0</td>\n",
       "      <td>28.100000</td>\n",
       "      <td>0.167</td>\n",
       "      <td>21</td>\n",
       "      <td>0</td>\n",
       "      <td>21</td>\n",
       "    </tr>\n",
       "    <tr>\n",
       "      <th>4</th>\n",
       "      <td>0</td>\n",
       "      <td>137.0</td>\n",
       "      <td>40.0</td>\n",
       "      <td>35.0</td>\n",
       "      <td>168.0</td>\n",
       "      <td>43.100000</td>\n",
       "      <td>2.288</td>\n",
       "      <td>33</td>\n",
       "      <td>1</td>\n",
       "      <td>33</td>\n",
       "    </tr>\n",
       "    <tr>\n",
       "      <th>5</th>\n",
       "      <td>5</td>\n",
       "      <td>116.0</td>\n",
       "      <td>74.0</td>\n",
       "      <td>29.0</td>\n",
       "      <td>125.0</td>\n",
       "      <td>25.600000</td>\n",
       "      <td>0.201</td>\n",
       "      <td>30</td>\n",
       "      <td>0</td>\n",
       "      <td>30</td>\n",
       "    </tr>\n",
       "    <tr>\n",
       "      <th>6</th>\n",
       "      <td>3</td>\n",
       "      <td>78.0</td>\n",
       "      <td>50.0</td>\n",
       "      <td>32.0</td>\n",
       "      <td>88.0</td>\n",
       "      <td>31.000000</td>\n",
       "      <td>0.248</td>\n",
       "      <td>26</td>\n",
       "      <td>1</td>\n",
       "      <td>26</td>\n",
       "    </tr>\n",
       "    <tr>\n",
       "      <th>7</th>\n",
       "      <td>10</td>\n",
       "      <td>115.0</td>\n",
       "      <td>72.0</td>\n",
       "      <td>29.0</td>\n",
       "      <td>125.0</td>\n",
       "      <td>35.300000</td>\n",
       "      <td>0.134</td>\n",
       "      <td>29</td>\n",
       "      <td>0</td>\n",
       "      <td>29</td>\n",
       "    </tr>\n",
       "    <tr>\n",
       "      <th>8</th>\n",
       "      <td>2</td>\n",
       "      <td>197.0</td>\n",
       "      <td>70.0</td>\n",
       "      <td>45.0</td>\n",
       "      <td>543.0</td>\n",
       "      <td>30.500000</td>\n",
       "      <td>0.158</td>\n",
       "      <td>53</td>\n",
       "      <td>1</td>\n",
       "      <td>53</td>\n",
       "    </tr>\n",
       "    <tr>\n",
       "      <th>9</th>\n",
       "      <td>8</td>\n",
       "      <td>125.0</td>\n",
       "      <td>96.0</td>\n",
       "      <td>29.0</td>\n",
       "      <td>125.0</td>\n",
       "      <td>32.457464</td>\n",
       "      <td>0.232</td>\n",
       "      <td>54</td>\n",
       "      <td>1</td>\n",
       "      <td>54</td>\n",
       "    </tr>\n",
       "  </tbody>\n",
       "</table>\n",
       "</div>"
      ],
      "text/plain": [
       "   Pregnancies  Glucose  BloodPressure  SkinThickness  Insulin        BMI  \\\n",
       "0            6    148.0           72.0           35.0    125.0  33.600000   \n",
       "1            1     85.0           66.0           29.0    125.0  26.600000   \n",
       "2            8    183.0           64.0           29.0    125.0  23.300000   \n",
       "3            1     89.0           66.0           23.0     94.0  28.100000   \n",
       "4            0    137.0           40.0           35.0    168.0  43.100000   \n",
       "5            5    116.0           74.0           29.0    125.0  25.600000   \n",
       "6            3     78.0           50.0           32.0     88.0  31.000000   \n",
       "7           10    115.0           72.0           29.0    125.0  35.300000   \n",
       "8            2    197.0           70.0           45.0    543.0  30.500000   \n",
       "9            8    125.0           96.0           29.0    125.0  32.457464   \n",
       "\n",
       "   DiabetesPedigreeFunction  Age  Class  Age_Median  \n",
       "0                     0.627   50      1          50  \n",
       "1                     0.351   31      0          31  \n",
       "2                     0.672   32      1          32  \n",
       "3                     0.167   21      0          21  \n",
       "4                     2.288   33      1          33  \n",
       "5                     0.201   30      0          30  \n",
       "6                     0.248   26      1          26  \n",
       "7                     0.134   29      0          29  \n",
       "8                     0.158   53      1          53  \n",
       "9                     0.232   54      1          54  "
      ]
     },
     "execution_count": 24,
     "metadata": {},
     "output_type": "execute_result"
    }
   ],
   "source": [
    "# решение\n",
    "data['Age'] = data['Age'].fillna(data['Age'].median())\n",
    "data['SkinThickness'] = data['SkinThickness'].fillna(data['SkinThickness'].median())\n",
    "data['Insulin'] = data['Insulin'].fillna(data['Insulin'].median())\n",
    "data['BloodPressure'] = data['BloodPressure'].fillna(data['BloodPressure'].median())\n",
    "data['BMI'] = data['BMI'].fillna(data['BMI'].mean())\n",
    "data['DiabetesPedigreeFunction'] = data['DiabetesPedigreeFunction'].fillna(data['DiabetesPedigreeFunction'].mean())\n",
    "data.head(10)"
   ]
  },
  {
   "cell_type": "markdown",
   "metadata": {
    "colab_type": "text",
    "id": "KPgh0pgojxXl"
   },
   "source": [
    "__Задание 3. (0.5 балла)__\n",
    "\n",
    "Выведите основные статистики (минимум, максимум, среднее, дисперсию, квантили) для всех столбцов."
   ]
  },
  {
   "cell_type": "code",
   "execution_count": 32,
   "metadata": {
    "colab": {},
    "colab_type": "code",
    "id": "lBg_Pnt0jxXl"
   },
   "outputs": [
    {
     "name": "stdout",
     "output_type": "stream",
     "text": [
      "       Pregnancies     Glucose  BloodPressure  SkinThickness     Insulin  \\\n",
      "count   768.000000  763.000000     768.000000     768.000000  768.000000   \n",
      "mean      3.845052  121.686763      72.386719      29.108073  140.671875   \n",
      "std       3.369578   30.535641      12.096642       8.791221   86.383060   \n",
      "min       0.000000   44.000000      24.000000       7.000000   14.000000   \n",
      "25%       1.000000   99.000000      64.000000      25.000000  121.500000   \n",
      "50%       3.000000  117.000000      72.000000      29.000000  125.000000   \n",
      "75%       6.000000  141.000000      80.000000      32.000000  127.250000   \n",
      "max      17.000000  199.000000     122.000000      99.000000  846.000000   \n",
      "\n",
      "              BMI  DiabetesPedigreeFunction         Age       Class  \\\n",
      "count  768.000000                768.000000  768.000000  768.000000   \n",
      "mean    32.457464                  0.471876   33.240885    0.348958   \n",
      "std      6.875151                  0.331329   11.760232    0.476951   \n",
      "min     18.200000                  0.078000   21.000000    0.000000   \n",
      "25%     27.500000                  0.243750   24.000000    0.000000   \n",
      "50%     32.400000                  0.372500   29.000000    0.000000   \n",
      "75%     36.600000                  0.626250   41.000000    1.000000   \n",
      "max     67.100000                  2.420000   81.000000    1.000000   \n",
      "\n",
      "       Age_Median  \n",
      "count  768.000000  \n",
      "mean    33.240885  \n",
      "std     11.760232  \n",
      "min     21.000000  \n",
      "25%     24.000000  \n",
      "50%     29.000000  \n",
      "75%     41.000000  \n",
      "max     81.000000  \n"
     ]
    }
   ],
   "source": [
    "# решение\n",
    "\n",
    "print(data.describe())"
   ]
  },
  {
   "cell_type": "markdown",
   "metadata": {
    "colab_type": "text",
    "id": "SE52n_IZjxXn"
   },
   "source": [
    "__Задание 4. (0.5 балла)__\n",
    "\n",
    "У скольких женщин старше 50 лет обнаружен диабет?"
   ]
  },
  {
   "cell_type": "code",
   "execution_count": 164,
   "metadata": {
    "colab": {},
    "colab_type": "code",
    "id": "nbypf5S8jxXo"
   },
   "outputs": [
    {
     "data": {
      "text/plain": [
       "38"
      ]
     },
     "execution_count": 164,
     "metadata": {},
     "output_type": "execute_result"
    }
   ],
   "source": [
    "# ( ͡° ͜ʖ ͡°)づ ━━ ✫・*。\n",
    "data[(data.Age > 50) & (data.Class == 1)].shape[0]  # старше 50 с диабетом"
   ]
  },
  {
   "cell_type": "markdown",
   "metadata": {
    "colab_type": "text",
    "id": "KrBezBxVjxXr"
   },
   "source": [
    "__Задание 5. (0.5 балла)__\n",
    "\n",
    "Найдите трех женщин с наибольшими числом беременностей."
   ]
  },
  {
   "cell_type": "code",
   "execution_count": 41,
   "metadata": {
    "colab": {},
    "colab_type": "code",
    "id": "TRzq5ouUjxXs"
   },
   "outputs": [
    {
     "data": {
      "text/plain": [
       "159    17\n",
       "88     15\n",
       "298    14\n",
       "Name: Pregnancies, dtype: int64"
      ]
     },
     "execution_count": 41,
     "metadata": {},
     "output_type": "execute_result"
    }
   ],
   "source": [
    "# решение\n",
    "data['Pregnancies'].nlargest(3)"
   ]
  },
  {
   "cell_type": "markdown",
   "metadata": {
    "colab_type": "text",
    "id": "NHPD5gpWjxXu"
   },
   "source": [
    "__Задание 6. (0.5 балла)__\n",
    "\n",
    "Сколько женщин успели родить 3 или более детей до 30 лет?"
   ]
  },
  {
   "cell_type": "code",
   "execution_count": 39,
   "metadata": {
    "colab": {},
    "colab_type": "code",
    "id": "tM3xMXiXjxXv"
   },
   "outputs": [
    {
     "data": {
      "text/plain": [
       "66"
      ]
     },
     "execution_count": 39,
     "metadata": {},
     "output_type": "execute_result"
    }
   ],
   "source": [
    "# решение\n",
    "data[(data.Pregnancies > 3) & (data.Age < 30)].shape[0]"
   ]
  },
  {
   "cell_type": "markdown",
   "metadata": {
    "colab_type": "text",
    "id": "Iwjda-nSjxXy"
   },
   "source": [
    "__Задание 7. (1 балл)__\n",
    "\n",
    "Нормальным кровяным давлением будем считать давление в диапазоне [80-89]. У какого процента женщин давление нормальное?"
   ]
  },
  {
   "cell_type": "code",
   "execution_count": 49,
   "metadata": {
    "colab": {},
    "colab_type": "code",
    "id": "jjy6ra1RjxXz"
   },
   "outputs": [
    {
     "data": {
      "text/plain": [
       "13.671875"
      ]
     },
     "execution_count": 49,
     "metadata": {},
     "output_type": "execute_result"
    }
   ],
   "source": [
    "# решение\n",
    "data[(data.BloodPressure < 89) & (data.BloodPressure > 80)].shape[0] / data.shape[0] * 100"
   ]
  },
  {
   "cell_type": "markdown",
   "metadata": {
    "colab_type": "text",
    "id": "4KhYpSOBjxX1"
   },
   "source": [
    "__Задание 8. (1 балл)__\n",
    "\n",
    "Считается, что BMI >= 30 - это признак ожирения. \n",
    "У скольких женщин с признаками ожирения кровяное давление выше среднего?"
   ]
  },
  {
   "cell_type": "code",
   "execution_count": 51,
   "metadata": {
    "colab": {},
    "colab_type": "code",
    "id": "uBz8FcB4jxX1"
   },
   "outputs": [
    {
     "data": {
      "text/plain": [
       "251"
      ]
     },
     "execution_count": 51,
     "metadata": {},
     "output_type": "execute_result"
    }
   ],
   "source": [
    "# решение\n",
    "bloodpressure_mean = data.BloodPressure.mean()\n",
    "data[(data.BMI >= 30) & (data.BloodPressure > bloodpressure_mean)].shape[0]"
   ]
  },
  {
   "cell_type": "markdown",
   "metadata": {
    "colab_type": "text",
    "id": "JTQ_IValjxX3"
   },
   "source": [
    "__Задание 9. (1 балл)__\n",
    "\n",
    "Сравните средние значения для признаков __Glucose,\tBloodPressure,\tInsulin__ среди тех, у кого обнаружен диабет, и тех, у кого его нет. "
   ]
  },
  {
   "cell_type": "code",
   "execution_count": 53,
   "metadata": {
    "colab": {},
    "colab_type": "code",
    "id": "qEoifUyjjxX3"
   },
   "outputs": [
    {
     "data": {
      "text/plain": [
       "Class\n",
       "0    110.643863\n",
       "1    142.319549\n",
       "Name: Glucose, dtype: float64"
      ]
     },
     "execution_count": 53,
     "metadata": {},
     "output_type": "execute_result"
    }
   ],
   "source": [
    "# решение\n",
    "data.groupby('Class')['Glucose'].mean()"
   ]
  },
  {
   "cell_type": "code",
   "execution_count": 54,
   "metadata": {
    "colab": {},
    "colab_type": "code",
    "id": "7JkZeqyXjxX6"
   },
   "outputs": [
    {
     "data": {
      "text/plain": [
       "Class\n",
       "0    70.920000\n",
       "1    75.123134\n",
       "Name: BloodPressure, dtype: float64"
      ]
     },
     "execution_count": 54,
     "metadata": {},
     "output_type": "execute_result"
    }
   ],
   "source": [
    "# решение\n",
    "data.groupby('Class')['BloodPressure'].mean()"
   ]
  },
  {
   "cell_type": "code",
   "execution_count": 55,
   "metadata": {
    "colab": {},
    "colab_type": "code",
    "id": "IdlgkPfzjxX8"
   },
   "outputs": [
    {
     "data": {
      "text/plain": [
       "Class\n",
       "0    127.792000\n",
       "1    164.701493\n",
       "Name: Insulin, dtype: float64"
      ]
     },
     "execution_count": 55,
     "metadata": {},
     "output_type": "execute_result"
    }
   ],
   "source": [
    "# решение\n",
    "data.groupby('Class')['Insulin'].mean()"
   ]
  },
  {
   "cell_type": "markdown",
   "metadata": {
    "colab_type": "text",
    "id": "Ki1CXmz0jxYA"
   },
   "source": [
    "__Задание 10. (0.5 балла)__\n",
    "\n",
    "Постройте круговую диаграмму для признака __Class__."
   ]
  },
  {
   "cell_type": "code",
   "execution_count": 58,
   "metadata": {
    "colab": {},
    "colab_type": "code",
    "id": "dQU3nmpCjxYB"
   },
   "outputs": [
    {
     "data": {
      "text/plain": [
       "<AxesSubplot:ylabel='None'>"
      ]
     },
     "execution_count": 58,
     "metadata": {},
     "output_type": "execute_result"
    },
    {
     "data": {
      "image/png": "[encoded data removed]",
      "text/plain": [
       "<Figure size 432x288 with 1 Axes>"
      ]
     },
     "metadata": {},
     "output_type": "display_data"
    }
   ],
   "source": [
    "# решение\n",
    "data.groupby('Class').size().plot(kind = 'pie')"
   ]
  },
  {
   "cell_type": "markdown",
   "metadata": {
    "colab_type": "text",
    "id": "uaLhpEi2jxYF"
   },
   "source": [
    "__Задание 11. (0.5 балла + 0.5 балла)__\n",
    "\n",
    "Постройте распределение для признака __BMI__ и сравните его с нормальным (напишите вывод в новой markdown-ячейке под графиками)\n",
    "\n",
    "*Доп. баллы*\n",
    "Постройте нормальное распределение поверх графика."
   ]
  },
  {
   "cell_type": "code",
   "execution_count": 61,
   "metadata": {
    "colab": {},
    "colab_type": "code",
    "id": "6AVYJbM1jxYG"
   },
   "outputs": [
    {
     "name": "stderr",
     "output_type": "stream",
     "text": [
      "C:\\Users\\1\\anaconda3\\lib\\site-packages\\seaborn\\distributions.py:2551: FutureWarning: `distplot` is a deprecated function and will be removed in a future version. Please adapt your code to use either `displot` (a figure-level function with similar flexibility) or `histplot` (an axes-level function for histograms).\n",
      "  warnings.warn(msg, FutureWarning)\n"
     ]
    },
    {
     "data": {
      "text/plain": [
       "<AxesSubplot:xlabel='BMI', ylabel='Density'>"
      ]
     },
     "execution_count": 61,
     "metadata": {},
     "output_type": "execute_result"
    },
    {
     "data": {
      "image/png": "[encoded data removed]",
      "text/plain": [
       "<Figure size 432x288 with 1 Axes>"
      ]
     },
     "metadata": {
      "needs_background": "light"
     },
     "output_type": "display_data"
    }
   ],
   "source": [
    "# решение\n",
    "sns.distplot(data.BMI.dropna(), fit = norm)"
   ]
  },
  {
   "cell_type": "markdown",
   "metadata": {
    "colab_type": "text",
    "id": "jQEMd-qyjxYK"
   },
   "source": [
    "__Задание 12. (1 балл)__\n",
    "\n",
    "Постройте следующий график: процент больных диабетом в зависимости от числа беременностей."
   ]
  },
  {
   "cell_type": "code",
   "execution_count": 64,
   "metadata": {
    "colab": {},
    "colab_type": "code",
    "id": "L2smN5VBjxYK"
   },
   "outputs": [
    {
     "data": {
      "text/plain": [
       "<AxesSubplot:xlabel='Pregnancies'>"
      ]
     },
     "execution_count": 64,
     "metadata": {},
     "output_type": "execute_result"
    },
    {
     "data": {
      "image/png": "[encoded data removed]",
      "text/plain": [
       "<Figure size 432x288 with 1 Axes>"
      ]
     },
     "metadata": {
      "needs_background": "light"
     },
     "output_type": "display_data"
    }
   ],
   "source": [
    "# решение\n",
    "data.groupby('Pregnancies')['Class'].size().plot(kind = 'bar')"
   ]
  },
  {
   "cell_type": "markdown",
   "metadata": {
    "colab_type": "text",
    "id": "lQUXC7FqjxYM"
   },
   "source": [
    "__Задание 13. (0.5 балла)__\n",
    "\n",
    "Добавьте новый бинарный признак:\n",
    "\n",
    "__wasPregnant__ $\\in$ {0,1} - была женщина беременна (1) или нет (0)"
   ]
  },
  {
   "cell_type": "code",
   "execution_count": 69,
   "metadata": {
    "colab": {},
    "colab_type": "code",
    "id": "iOH2LVQzjxYN"
   },
   "outputs": [
    {
     "data": {
      "text/html": [
       "<div>\n",
       "<style scoped>\n",
       "    .dataframe tbody tr th:only-of-type {\n",
       "        vertical-align: middle;\n",
       "    }\n",
       "\n",
       "    .dataframe tbody tr th {\n",
       "        vertical-align: top;\n",
       "    }\n",
       "\n",
       "    .dataframe thead th {\n",
       "        text-align: right;\n",
       "    }\n",
       "</style>\n",
       "<table border=\"1\" class=\"dataframe\">\n",
       "  <thead>\n",
       "    <tr style=\"text-align: right;\">\n",
       "      <th></th>\n",
       "      <th>Pregnancies</th>\n",
       "      <th>Glucose</th>\n",
       "      <th>BloodPressure</th>\n",
       "      <th>SkinThickness</th>\n",
       "      <th>Insulin</th>\n",
       "      <th>BMI</th>\n",
       "      <th>DiabetesPedigreeFunction</th>\n",
       "      <th>Age</th>\n",
       "      <th>Class</th>\n",
       "      <th>Age_Median</th>\n",
       "      <th>wasPregnant</th>\n",
       "    </tr>\n",
       "  </thead>\n",
       "  <tbody>\n",
       "    <tr>\n",
       "      <th>0</th>\n",
       "      <td>6</td>\n",
       "      <td>148.0</td>\n",
       "      <td>72.0</td>\n",
       "      <td>35.0</td>\n",
       "      <td>125.0</td>\n",
       "      <td>33.6</td>\n",
       "      <td>0.627</td>\n",
       "      <td>50</td>\n",
       "      <td>1</td>\n",
       "      <td>50</td>\n",
       "      <td>1</td>\n",
       "    </tr>\n",
       "    <tr>\n",
       "      <th>1</th>\n",
       "      <td>1</td>\n",
       "      <td>85.0</td>\n",
       "      <td>66.0</td>\n",
       "      <td>29.0</td>\n",
       "      <td>125.0</td>\n",
       "      <td>26.6</td>\n",
       "      <td>0.351</td>\n",
       "      <td>31</td>\n",
       "      <td>0</td>\n",
       "      <td>31</td>\n",
       "      <td>1</td>\n",
       "    </tr>\n",
       "    <tr>\n",
       "      <th>2</th>\n",
       "      <td>8</td>\n",
       "      <td>183.0</td>\n",
       "      <td>64.0</td>\n",
       "      <td>29.0</td>\n",
       "      <td>125.0</td>\n",
       "      <td>23.3</td>\n",
       "      <td>0.672</td>\n",
       "      <td>32</td>\n",
       "      <td>1</td>\n",
       "      <td>32</td>\n",
       "      <td>1</td>\n",
       "    </tr>\n",
       "    <tr>\n",
       "      <th>3</th>\n",
       "      <td>1</td>\n",
       "      <td>89.0</td>\n",
       "      <td>66.0</td>\n",
       "      <td>23.0</td>\n",
       "      <td>94.0</td>\n",
       "      <td>28.1</td>\n",
       "      <td>0.167</td>\n",
       "      <td>21</td>\n",
       "      <td>0</td>\n",
       "      <td>21</td>\n",
       "      <td>1</td>\n",
       "    </tr>\n",
       "    <tr>\n",
       "      <th>4</th>\n",
       "      <td>0</td>\n",
       "      <td>137.0</td>\n",
       "      <td>40.0</td>\n",
       "      <td>35.0</td>\n",
       "      <td>168.0</td>\n",
       "      <td>43.1</td>\n",
       "      <td>2.288</td>\n",
       "      <td>33</td>\n",
       "      <td>1</td>\n",
       "      <td>33</td>\n",
       "      <td>0</td>\n",
       "    </tr>\n",
       "  </tbody>\n",
       "</table>\n",
       "</div>"
      ],
      "text/plain": [
       "   Pregnancies  Glucose  BloodPressure  SkinThickness  Insulin   BMI  \\\n",
       "0            6    148.0           72.0           35.0    125.0  33.6   \n",
       "1            1     85.0           66.0           29.0    125.0  26.6   \n",
       "2            8    183.0           64.0           29.0    125.0  23.3   \n",
       "3            1     89.0           66.0           23.0     94.0  28.1   \n",
       "4            0    137.0           40.0           35.0    168.0  43.1   \n",
       "\n",
       "   DiabetesPedigreeFunction  Age  Class  Age_Median  wasPregnant  \n",
       "0                     0.627   50      1          50            1  \n",
       "1                     0.351   31      0          31            1  \n",
       "2                     0.672   32      1          32            1  \n",
       "3                     0.167   21      0          21            1  \n",
       "4                     2.288   33      1          33            0  "
      ]
     },
     "execution_count": 69,
     "metadata": {},
     "output_type": "execute_result"
    }
   ],
   "source": [
    "# решение \n",
    "data['wasPregnant'] = data['Pregnancies'].apply(lambda x: 0 if x==0 else 1)\n",
    "data.head()"
   ]
  },
  {
   "cell_type": "markdown",
   "metadata": {
    "colab_type": "text",
    "id": "lz7v-028jxYP"
   },
   "source": [
    "__Задание 14. (0.5 балла)__\n",
    "\n",
    "Сравните процент больных диабетом среди женщин, которые были беременны и не были."
   ]
  },
  {
   "cell_type": "code",
   "execution_count": 71,
   "metadata": {
    "colab": {},
    "colab_type": "code",
    "id": "7AbUJ9DgjxYP"
   },
   "outputs": [
    {
     "data": {
      "text/plain": [
       "wasPregnant  Class\n",
       "0            0         73\n",
       "             1         38\n",
       "1            0        427\n",
       "             1        230\n",
       "Name: Class, dtype: int64"
      ]
     },
     "execution_count": 71,
     "metadata": {},
     "output_type": "execute_result"
    }
   ],
   "source": [
    "# решение\n",
    "data.groupby('wasPregnant')['Class'].value_counts()"
   ]
  },
  {
   "cell_type": "markdown",
   "metadata": {
    "colab_type": "text",
    "id": "JFvXThqxjxYS"
   },
   "source": [
    "__Задание 15. (бонусное:  1 балл)__\n",
    "\n",
    "Добавьте новый категориальный признак __bodyType__ на основе столбца BMI:\n",
    "\n",
    "__BMI Categories:__ \n",
    "    \n",
    "Underweight = <18.5\n",
    "\n",
    "Normal weight = 18.5–24.9 \n",
    "\n",
    "Overweight = 25–29.9 \n",
    "\n",
    "Obesity = BMI of 30 or greater\n",
    "\n",
    "Признак должен принимать значения Underweight, Normal weight, Overweight и Obesity."
   ]
  },
  {
   "cell_type": "code",
   "execution_count": 81,
   "metadata": {},
   "outputs": [
    {
     "data": {
      "text/html": [
       "<div>\n",
       "<style scoped>\n",
       "    .dataframe tbody tr th:only-of-type {\n",
       "        vertical-align: middle;\n",
       "    }\n",
       "\n",
       "    .dataframe tbody tr th {\n",
       "        vertical-align: top;\n",
       "    }\n",
       "\n",
       "    .dataframe thead th {\n",
       "        text-align: right;\n",
       "    }\n",
       "</style>\n",
       "<table border=\"1\" class=\"dataframe\">\n",
       "  <thead>\n",
       "    <tr style=\"text-align: right;\">\n",
       "      <th></th>\n",
       "      <th>Pregnancies</th>\n",
       "      <th>Glucose</th>\n",
       "      <th>BloodPressure</th>\n",
       "      <th>SkinThickness</th>\n",
       "      <th>Insulin</th>\n",
       "      <th>BMI</th>\n",
       "      <th>DiabetesPedigreeFunction</th>\n",
       "      <th>Age</th>\n",
       "      <th>Class</th>\n",
       "      <th>Age_Median</th>\n",
       "      <th>wasPregnant</th>\n",
       "      <th>bodyType</th>\n",
       "    </tr>\n",
       "  </thead>\n",
       "  <tbody>\n",
       "    <tr>\n",
       "      <th>0</th>\n",
       "      <td>6</td>\n",
       "      <td>148.0</td>\n",
       "      <td>72.0</td>\n",
       "      <td>35.0</td>\n",
       "      <td>125.0</td>\n",
       "      <td>33.6</td>\n",
       "      <td>0.627</td>\n",
       "      <td>50</td>\n",
       "      <td>1</td>\n",
       "      <td>50</td>\n",
       "      <td>1</td>\n",
       "      <td>Obesity</td>\n",
       "    </tr>\n",
       "    <tr>\n",
       "      <th>1</th>\n",
       "      <td>1</td>\n",
       "      <td>85.0</td>\n",
       "      <td>66.0</td>\n",
       "      <td>29.0</td>\n",
       "      <td>125.0</td>\n",
       "      <td>26.6</td>\n",
       "      <td>0.351</td>\n",
       "      <td>31</td>\n",
       "      <td>0</td>\n",
       "      <td>31</td>\n",
       "      <td>1</td>\n",
       "      <td>Overweight</td>\n",
       "    </tr>\n",
       "    <tr>\n",
       "      <th>2</th>\n",
       "      <td>8</td>\n",
       "      <td>183.0</td>\n",
       "      <td>64.0</td>\n",
       "      <td>29.0</td>\n",
       "      <td>125.0</td>\n",
       "      <td>23.3</td>\n",
       "      <td>0.672</td>\n",
       "      <td>32</td>\n",
       "      <td>1</td>\n",
       "      <td>32</td>\n",
       "      <td>1</td>\n",
       "      <td>Normal Weight</td>\n",
       "    </tr>\n",
       "    <tr>\n",
       "      <th>3</th>\n",
       "      <td>1</td>\n",
       "      <td>89.0</td>\n",
       "      <td>66.0</td>\n",
       "      <td>23.0</td>\n",
       "      <td>94.0</td>\n",
       "      <td>28.1</td>\n",
       "      <td>0.167</td>\n",
       "      <td>21</td>\n",
       "      <td>0</td>\n",
       "      <td>21</td>\n",
       "      <td>1</td>\n",
       "      <td>Overweight</td>\n",
       "    </tr>\n",
       "    <tr>\n",
       "      <th>4</th>\n",
       "      <td>0</td>\n",
       "      <td>137.0</td>\n",
       "      <td>40.0</td>\n",
       "      <td>35.0</td>\n",
       "      <td>168.0</td>\n",
       "      <td>43.1</td>\n",
       "      <td>2.288</td>\n",
       "      <td>33</td>\n",
       "      <td>1</td>\n",
       "      <td>33</td>\n",
       "      <td>0</td>\n",
       "      <td>Obesity</td>\n",
       "    </tr>\n",
       "  </tbody>\n",
       "</table>\n",
       "</div>"
      ],
      "text/plain": [
       "   Pregnancies  Glucose  BloodPressure  SkinThickness  Insulin   BMI  \\\n",
       "0            6    148.0           72.0           35.0    125.0  33.6   \n",
       "1            1     85.0           66.0           29.0    125.0  26.6   \n",
       "2            8    183.0           64.0           29.0    125.0  23.3   \n",
       "3            1     89.0           66.0           23.0     94.0  28.1   \n",
       "4            0    137.0           40.0           35.0    168.0  43.1   \n",
       "\n",
       "   DiabetesPedigreeFunction  Age  Class  Age_Median  wasPregnant  \\\n",
       "0                     0.627   50      1          50            1   \n",
       "1                     0.351   31      0          31            1   \n",
       "2                     0.672   32      1          32            1   \n",
       "3                     0.167   21      0          21            1   \n",
       "4                     2.288   33      1          33            0   \n",
       "\n",
       "        bodyType  \n",
       "0        Obesity  \n",
       "1     Overweight  \n",
       "2  Normal Weight  \n",
       "3     Overweight  \n",
       "4        Obesity  "
      ]
     },
     "execution_count": 81,
     "metadata": {},
     "output_type": "execute_result"
    }
   ],
   "source": [
    "# решение\n",
    "def bmi_categories(a: data['BMI']):\n",
    "    if a <= 18.5:\n",
    "        return 'Underweight'\n",
    "    elif (a > 18.5) & (a < 24.9):\n",
    "        return 'Normal Weight'\n",
    "    elif (a > 25) & (a < 29.9):\n",
    "        return 'Overweight'\n",
    "    elif a > 29.9:\n",
    "        return 'Obesity'\n",
    "    \n",
    "data['bodyType'] = data.BMI.apply(bmi_categories)\n",
    "data.head()"
   ]
  },
  {
   "cell_type": "markdown",
   "metadata": {
    "colab_type": "text",
    "id": "9mGxubgGjxYU"
   },
   "source": [
    "__Задание 16. (бонусное:  0.5 балла)__\n",
    "\n",
    "Будем считать \"здоровыми\" тех, у кого нормальный вес и кровяное давление. Какой процент \"здоровых\" женщин больны диабетом?"
   ]
  },
  {
   "cell_type": "code",
   "execution_count": 100,
   "metadata": {},
   "outputs": [],
   "source": [
    "healthy_patients = data[(data.BloodPressure < 89) & (data.BloodPressure > 80) & (data.bodyType == 'Normal Weight')]\n"
   ]
  },
  {
   "cell_type": "code",
   "execution_count": null,
   "metadata": {},
   "outputs": [],
   "source": []
  }
 ],
 "metadata": {
  "colab": {
   "name": "HW 2.ipynb",
   "provenance": [],
   "version": "0.3.2"
  },
  "kernelspec": {
   "display_name": "Python 3",
   "language": "python",
   "name": "python3"
  },
  "language_info": {
   "codemirror_mode": {
    "name": "ipython",
    "version": 3
   },
   "file_extension": ".py",
   "mimetype": "text/x-python",
   "name": "python",
   "nbconvert_exporter": "python",
   "pygments_lexer": "ipython3",
   "version": "3.8.5"
  }
 },
 "nbformat": 4,
 "nbformat_minor": 2
}
